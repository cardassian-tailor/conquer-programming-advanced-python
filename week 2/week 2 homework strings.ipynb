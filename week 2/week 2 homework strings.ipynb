{
 "cells": [
  {
   "cell_type": "code",
   "execution_count": 1,
   "metadata": {},
   "outputs": [],
   "source": [
    "'''\n",
    "TODO:\n",
    "\n",
    "1. Split the text variable into a list of the individual fruits.\n",
    "\n",
    "2. For all the names in the list that don't start with 'a', \n",
    "   use an f-string to print the string:\n",
    "\n",
    "    Yes, we have no [fruit name] today.\n",
    "'''\n",
    "\n",
    "text = 'apples,oranges,kiwis,bananas'"
   ]
  },
  {
   "cell_type": "code",
   "execution_count": 4,
   "metadata": {},
   "outputs": [
    {
     "name": "stdout",
     "output_type": "stream",
     "text": [
      "['apples', 'oranges', 'kiwis', 'bananas']\n"
     ]
    }
   ],
   "source": [
    "fruit_list = text.split(',')\n",
    "print(fruit_list)"
   ]
  },
  {
   "cell_type": "code",
   "execution_count": 6,
   "metadata": {},
   "outputs": [
    {
     "name": "stdout",
     "output_type": "stream",
     "text": [
      "Yes, we have no oranges today\n",
      "Yes, we have no kiwis today\n",
      "Yes, we have no bananas today\n"
     ]
    }
   ],
   "source": [
    "for item in fruit_list:\n",
    "    if item[0].lower() != 'a':\n",
    "        print(f'Yes, we have no {item} today')\n",
    "        "
   ]
  },
  {
   "cell_type": "code",
   "execution_count": null,
   "metadata": {},
   "outputs": [],
   "source": []
  }
 ],
 "metadata": {
  "kernelspec": {
   "display_name": "Python 3",
   "language": "python",
   "name": "python3"
  },
  "language_info": {
   "codemirror_mode": {
    "name": "ipython",
    "version": 3
   },
   "file_extension": ".py",
   "mimetype": "text/x-python",
   "name": "python",
   "nbconvert_exporter": "python",
   "pygments_lexer": "ipython3",
   "version": "3.7.1"
  }
 },
 "nbformat": 4,
 "nbformat_minor": 2
}
