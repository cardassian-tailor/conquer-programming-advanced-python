{
 "cells": [
  {
   "cell_type": "markdown",
   "metadata": {
    "tags": [
     "keep"
    ]
   },
   "source": [
    "## pathlib\n",
    "* [pathlib docs](https://docs.python.org/3/library/pathlib.html)\n",
    "* [Practical Business Python: Using Python's Pathlib module](https://pbpython.com/pathlib-intro.html)\n",
    "* [PEP 428: The pathlib module](https://www.python.org/dev/peps/pep-0428/)\n",
    "\n",
    "File handling operations to check for the existence of a file and such are handled in a variety of built-in libraries, such as ``os``, ``os.path`` and ``shutil``. Traditionally in Python you'd have to hunt around to find which library provided what functionality. This is a legacy of C-based APIs and is not at all Pythonic, in that we'd expect a file object that handles all this stuff in one place.\n",
    "\n",
    "All that functionality is still there in those various libraries, but as of Python 3.4, there is now the ``pathlib`` library which provides a file object (``Path``) in the manner that you'd expect. I strongly recommend using this libary, as I've found it has a significant impact on cleaning up code and making code more intuitive and Pythonic.\n",
    "\n",
    "This is the standard way to import the Path object:"
   ]
  },
  {
   "cell_type": "code",
   "execution_count": 14,
   "metadata": {},
   "outputs": [
    {
     "name": "stdout",
     "output_type": "stream",
     "text": [
      "Path (<class 'type'>)\n",
      "  methods:\n",
      "    absolute()\n",
      "    as_posix()\n",
      "    as_uri()\n",
      "    chmod()\n",
      "    cwd()\n",
      "    exists()\n",
      "    expanduser()\n",
      "    glob()\n",
      "    group()\n",
      "    home()\n",
      "    is_absolute()\n",
      "    is_block_device()\n",
      "    is_char_device()\n",
      "    is_dir()\n",
      "    is_fifo()\n",
      "    is_file()\n",
      "    is_mount()\n",
      "    is_reserved()\n",
      "    is_socket()\n",
      "    is_symlink()\n",
      "    iterdir()\n",
      "    joinpath()\n",
      "    lchmod()\n",
      "    lstat()\n",
      "    match()\n",
      "    mkdir()\n",
      "    open()\n",
      "    owner()\n",
      "    read_bytes()\n",
      "    read_text()\n",
      "    relative_to()\n",
      "    rename()\n",
      "    replace()\n",
      "    resolve()\n",
      "    rglob()\n",
      "    rmdir()\n",
      "    samefile()\n",
      "    stat()\n",
      "    symlink_to()\n",
      "    touch()\n",
      "    unlink()\n",
      "    with_name()\n",
      "    with_suffix()\n",
      "    write_bytes()\n",
      "    write_text()\n",
      "   \n",
      "  attributes:\n",
      "    anchor\n",
      "    drive\n",
      "    name\n",
      "    parent\n",
      "    parents\n",
      "    parts\n",
      "    root\n",
      "    stem\n",
      "    suffix\n",
      "    suffixes\n",
      "   \n"
     ]
    }
   ],
   "source": [
    "from pathlib import Path\n",
    "from helping import info\n",
    "\n",
    "info(Path)"
   ]
  },
  {
   "cell_type": "markdown",
   "metadata": {},
   "source": [
    "### Creating Paths\n",
    "Creating a ``Path`` object with no arguments gives you a ``Path`` object for the *current working directory*. The ``absolute()`` method prints the absolute version of the path (that is, any links are resolved so you get the true path for the file):"
   ]
  },
  {
   "cell_type": "code",
   "execution_count": 15,
   "metadata": {},
   "outputs": [
    {
     "name": "stdout",
     "output_type": "stream",
     "text": [
      "C:\\Users\\Home\\Desktop\\ConquerPython\\2_Using Python\n"
     ]
    }
   ],
   "source": [
    "path = Path()\n",
    "print(path.absolute())"
   ]
  },
  {
   "cell_type": "markdown",
   "metadata": {},
   "source": [
    "To get a file in the current working directory, you can just use the filename:"
   ]
  },
  {
   "cell_type": "code",
   "execution_count": 16,
   "metadata": {},
   "outputs": [
    {
     "name": "stdout",
     "output_type": "stream",
     "text": [
      "C:\\Users\\Home\\Desktop\\ConquerPython\\2_Using Python\\stanford.txt\n"
     ]
    }
   ],
   "source": [
    "path = Path('stanford.txt')\n",
    "print(path.absolute())"
   ]
  },
  {
   "cell_type": "markdown",
   "metadata": {},
   "source": [
    "One of the nice features of ``Path`` is how easy it is to build up a path by simply passing multiple arguments when you create the ``Path`` object:"
   ]
  },
  {
   "cell_type": "code",
   "execution_count": 17,
   "metadata": {},
   "outputs": [
    {
     "name": "stdout",
     "output_type": "stream",
     "text": [
      "C:\\tmp\\mydir\\file.txt\n"
     ]
    }
   ],
   "source": [
    "path = Path('/tmp', 'mydir', 'file.txt')\n",
    "print(path.absolute())"
   ]
  },
  {
   "cell_type": "markdown",
   "metadata": {},
   "source": [
    "You can also use Path objects to build up the path:"
   ]
  },
  {
   "cell_type": "code",
   "execution_count": 18,
   "metadata": {},
   "outputs": [
    {
     "name": "stdout",
     "output_type": "stream",
     "text": [
      "C:\\Users\\Home\\Desktop\\ConquerPython\\2_Using Python\\input\\data.csv\n"
     ]
    }
   ],
   "source": [
    "root = Path('input')\n",
    "\n",
    "path = Path(root, 'data.csv')\n",
    "\n",
    "print(path.absolute())"
   ]
  },
  {
   "cell_type": "markdown",
   "metadata": {},
   "source": [
    "### Working with files\n",
    "Here are some common operations with Paths:"
   ]
  },
  {
   "cell_type": "code",
   "execution_count": 22,
   "metadata": {},
   "outputs": [
    {
     "name": "stdout",
     "output_type": "stream",
     "text": [
      "True\n",
      "False\n"
     ]
    }
   ],
   "source": [
    "path = Path('stanford.txt')\n",
    "print(path.exists())\n",
    "print(path.is_dir())"
   ]
  },
  {
   "cell_type": "code",
   "execution_count": 23,
   "metadata": {},
   "outputs": [
    {
     "ename": "UnicodeDecodeError",
     "evalue": "'charmap' codec can't decode byte 0x9d in position 1056: character maps to <undefined>",
     "output_type": "error",
     "traceback": [
      "\u001b[1;31m---------------------------------------------------------------------------\u001b[0m",
      "\u001b[1;31mUnicodeDecodeError\u001b[0m                        Traceback (most recent call last)",
      "\u001b[1;32m<ipython-input-23-6a787ce49e7e>\u001b[0m in \u001b[0;36m<module>\u001b[1;34m\u001b[0m\n\u001b[1;32m----> 1\u001b[1;33m \u001b[0mprint\u001b[0m\u001b[1;33m(\u001b[0m\u001b[0mpath\u001b[0m\u001b[1;33m.\u001b[0m\u001b[0mread_text\u001b[0m\u001b[1;33m(\u001b[0m\u001b[1;33m)\u001b[0m\u001b[1;33m)\u001b[0m\u001b[1;33m\u001b[0m\u001b[1;33m\u001b[0m\u001b[0m\n\u001b[0m",
      "\u001b[1;32mc:\\users\\home\\appdata\\local\\programs\\python\\python37\\lib\\pathlib.py\u001b[0m in \u001b[0;36mread_text\u001b[1;34m(self, encoding, errors)\u001b[0m\n\u001b[0;32m   1188\u001b[0m         \"\"\"\n\u001b[0;32m   1189\u001b[0m         \u001b[1;32mwith\u001b[0m \u001b[0mself\u001b[0m\u001b[1;33m.\u001b[0m\u001b[0mopen\u001b[0m\u001b[1;33m(\u001b[0m\u001b[0mmode\u001b[0m\u001b[1;33m=\u001b[0m\u001b[1;34m'r'\u001b[0m\u001b[1;33m,\u001b[0m \u001b[0mencoding\u001b[0m\u001b[1;33m=\u001b[0m\u001b[0mencoding\u001b[0m\u001b[1;33m,\u001b[0m \u001b[0merrors\u001b[0m\u001b[1;33m=\u001b[0m\u001b[0merrors\u001b[0m\u001b[1;33m)\u001b[0m \u001b[1;32mas\u001b[0m \u001b[0mf\u001b[0m\u001b[1;33m:\u001b[0m\u001b[1;33m\u001b[0m\u001b[1;33m\u001b[0m\u001b[0m\n\u001b[1;32m-> 1190\u001b[1;33m             \u001b[1;32mreturn\u001b[0m \u001b[0mf\u001b[0m\u001b[1;33m.\u001b[0m\u001b[0mread\u001b[0m\u001b[1;33m(\u001b[0m\u001b[1;33m)\u001b[0m\u001b[1;33m\u001b[0m\u001b[1;33m\u001b[0m\u001b[0m\n\u001b[0m\u001b[0;32m   1191\u001b[0m \u001b[1;33m\u001b[0m\u001b[0m\n\u001b[0;32m   1192\u001b[0m     \u001b[1;32mdef\u001b[0m \u001b[0mwrite_bytes\u001b[0m\u001b[1;33m(\u001b[0m\u001b[0mself\u001b[0m\u001b[1;33m,\u001b[0m \u001b[0mdata\u001b[0m\u001b[1;33m)\u001b[0m\u001b[1;33m:\u001b[0m\u001b[1;33m\u001b[0m\u001b[1;33m\u001b[0m\u001b[0m\n",
      "\u001b[1;32mc:\\users\\home\\appdata\\local\\programs\\python\\python37\\lib\\encodings\\cp1252.py\u001b[0m in \u001b[0;36mdecode\u001b[1;34m(self, input, final)\u001b[0m\n\u001b[0;32m     21\u001b[0m \u001b[1;32mclass\u001b[0m \u001b[0mIncrementalDecoder\u001b[0m\u001b[1;33m(\u001b[0m\u001b[0mcodecs\u001b[0m\u001b[1;33m.\u001b[0m\u001b[0mIncrementalDecoder\u001b[0m\u001b[1;33m)\u001b[0m\u001b[1;33m:\u001b[0m\u001b[1;33m\u001b[0m\u001b[1;33m\u001b[0m\u001b[0m\n\u001b[0;32m     22\u001b[0m     \u001b[1;32mdef\u001b[0m \u001b[0mdecode\u001b[0m\u001b[1;33m(\u001b[0m\u001b[0mself\u001b[0m\u001b[1;33m,\u001b[0m \u001b[0minput\u001b[0m\u001b[1;33m,\u001b[0m \u001b[0mfinal\u001b[0m\u001b[1;33m=\u001b[0m\u001b[1;32mFalse\u001b[0m\u001b[1;33m)\u001b[0m\u001b[1;33m:\u001b[0m\u001b[1;33m\u001b[0m\u001b[1;33m\u001b[0m\u001b[0m\n\u001b[1;32m---> 23\u001b[1;33m         \u001b[1;32mreturn\u001b[0m \u001b[0mcodecs\u001b[0m\u001b[1;33m.\u001b[0m\u001b[0mcharmap_decode\u001b[0m\u001b[1;33m(\u001b[0m\u001b[0minput\u001b[0m\u001b[1;33m,\u001b[0m\u001b[0mself\u001b[0m\u001b[1;33m.\u001b[0m\u001b[0merrors\u001b[0m\u001b[1;33m,\u001b[0m\u001b[0mdecoding_table\u001b[0m\u001b[1;33m)\u001b[0m\u001b[1;33m[\u001b[0m\u001b[1;36m0\u001b[0m\u001b[1;33m]\u001b[0m\u001b[1;33m\u001b[0m\u001b[1;33m\u001b[0m\u001b[0m\n\u001b[0m\u001b[0;32m     24\u001b[0m \u001b[1;33m\u001b[0m\u001b[0m\n\u001b[0;32m     25\u001b[0m \u001b[1;32mclass\u001b[0m \u001b[0mStreamWriter\u001b[0m\u001b[1;33m(\u001b[0m\u001b[0mCodec\u001b[0m\u001b[1;33m,\u001b[0m\u001b[0mcodecs\u001b[0m\u001b[1;33m.\u001b[0m\u001b[0mStreamWriter\u001b[0m\u001b[1;33m)\u001b[0m\u001b[1;33m:\u001b[0m\u001b[1;33m\u001b[0m\u001b[1;33m\u001b[0m\u001b[0m\n",
      "\u001b[1;31mUnicodeDecodeError\u001b[0m: 'charmap' codec can't decode byte 0x9d in position 1056: character maps to <undefined>"
     ]
    }
   ],
   "source": [
    "print(path.read_text())"
   ]
  },
  {
   "cell_type": "markdown",
   "metadata": {},
   "source": [
    "``Path.open()`` is the equivalent of calling the ``open()`` function:"
   ]
  },
  {
   "cell_type": "code",
   "execution_count": null,
   "metadata": {},
   "outputs": [],
   "source": [
    "for line in path.open():\n",
    "    print(line)"
   ]
  },
  {
   "cell_type": "code",
   "execution_count": null,
   "metadata": {},
   "outputs": [],
   "source": [
    "path = Path('output.txt')\n",
    "path.write_text(\"Hello, this is my output!\")"
   ]
  },
  {
   "cell_type": "code",
   "execution_count": null,
   "metadata": {},
   "outputs": [],
   "source": [
    "print(path.read_text())"
   ]
  },
  {
   "cell_type": "markdown",
   "metadata": {},
   "source": [
    "### Working with directories\n",
    "Use ``iterdir()`` to iterate over a single directory:"
   ]
  },
  {
   "cell_type": "code",
   "execution_count": null,
   "metadata": {},
   "outputs": [],
   "source": [
    "path = Path()\n",
    "\n",
    "for item in path.iterdir():\n",
    "    print(item)"
   ]
  },
  {
   "cell_type": "markdown",
   "metadata": {},
   "source": [
    "Use ``glob()`` to list items in a directory that match a pattern:"
   ]
  },
  {
   "cell_type": "code",
   "execution_count": null,
   "metadata": {},
   "outputs": [],
   "source": [
    "for item in path.glob('*.py'):\n",
    "    print(item)"
   ]
  },
  {
   "cell_type": "markdown",
   "metadata": {},
   "source": [
    "Use ``mkdir()`` to create a directory. Passing ``parents=True`` causes all missing segments of the path to be created, and ``exist_ok=True`` doesn't raise an error if the directory already exists, both of which are usually what you want:"
   ]
  },
  {
   "cell_type": "code",
   "execution_count": null,
   "metadata": {},
   "outputs": [],
   "source": [
    "newdir = Path(path, 'new_dir')\n",
    "newdir.mkdir(parents=True, exist_ok=True)\n",
    "\n",
    "print(newdir.exists())"
   ]
  },
  {
   "cell_type": "markdown",
   "metadata": {},
   "source": [
    "To walk through all files in a directory structure, use ``glob()`` with the pattern ``**/*.*``:"
   ]
  },
  {
   "cell_type": "code",
   "execution_count": null,
   "metadata": {},
   "outputs": [],
   "source": [
    "for item in path.glob('**/*.*'):\n",
    "    print(item)"
   ]
  },
  {
   "cell_type": "markdown",
   "metadata": {
    "tags": [
     "keep"
    ]
   },
   "source": [
    "## Exercise: ex_3_lines.py\n",
    "1. Print out the contents of ``stanford.txt``.\n",
    "\n",
    "2. How many lines are in the file?\n",
    "\n",
    "3. How many words are in the file? (Hint: There's a string method that will help with this...)"
   ]
  },
  {
   "cell_type": "code",
   "execution_count": null,
   "metadata": {},
   "outputs": [],
   "source": [
    "with open('stanford.txt', 'r', errors = \"ignore\") as file:\n",
    "    data = file.read()\n",
    "    print(data)"
   ]
  },
  {
   "cell_type": "code",
   "execution_count": null,
   "metadata": {},
   "outputs": [],
   "source": [
    "num_lines = sum(1 for line in open('stanford.txt', errors =\"ignore\"))\n",
    "print(num_lines)\n",
    "count = sum(1 for line in data if line == '\\n')\n",
    "print(count)\n",
    "\n",
    "# Answer to number two. last line in the file doesnt contain a carriage return, so its 52 on that count instead of 53. \n"
   ]
  },
  {
   "cell_type": "code",
   "execution_count": null,
   "metadata": {},
   "outputs": [],
   "source": [
    "print(\"Character count is: \", len(data))\n",
    "list1 = data.split()\n",
    "print(\"Total word count is: \", len(list1))\n",
    "print(\"Total unique words is: \",len(set(list1)), end = \"\\n \\n\")\n",
    "for item in list1:\n",
    "    print(item)\n",
    "\n"
   ]
  },
  {
   "cell_type": "markdown",
   "metadata": {},
   "source": [
    "## Exercise: ex_4_home.py\n",
    "\n",
    "Using ``pathlib.Path``, answer these questions:\n",
    "\n",
    "1. How many files (not directories!) are in your home directory?\n",
    "2. How many directories (not files!) are in your home directory?\n",
    "\n",
    "*Hint: You'll need to look at the info() for Path to see how to get your home directory...*"
   ]
  },
  {
   "cell_type": "code",
   "execution_count": null,
   "metadata": {},
   "outputs": [],
   "source": [
    "import pathlib\n",
    "from os import path\n",
    "import helping\n",
    "help(pathlib.Path.is_file)\n",
    "\n"
   ]
  },
  {
   "cell_type": "code",
   "execution_count": null,
   "metadata": {
    "scrolled": true
   },
   "outputs": [],
   "source": [
    "home = pathlib.Path.home()\n",
    "files, dirs = 0, 0\n",
    "for item in pathlib.Path.iterdir(home):\n",
    "    if pathlib.Path.is_file(item):\n",
    "        files +=1\n",
    "    if pathlib.Path.is_dir(item):\n",
    "        dirs +=1\n",
    "print(f'You have {files} files and {dirs} directories.')"
   ]
  },
  {
   "cell_type": "code",
   "execution_count": null,
   "metadata": {},
   "outputs": [],
   "source": [
    "type(pathlib.Path())"
   ]
  },
  {
   "cell_type": "code",
   "execution_count": null,
   "metadata": {},
   "outputs": [],
   "source": []
  }
 ],
 "metadata": {
  "kernelspec": {
   "display_name": "Python 3",
   "language": "python",
   "name": "python3"
  },
  "language_info": {
   "codemirror_mode": {
    "name": "ipython",
    "version": 3
   },
   "file_extension": ".py",
   "mimetype": "text/x-python",
   "name": "python",
   "nbconvert_exporter": "python",
   "pygments_lexer": "ipython3",
   "version": "3.7.1"
  }
 },
 "nbformat": 4,
 "nbformat_minor": 2
}
