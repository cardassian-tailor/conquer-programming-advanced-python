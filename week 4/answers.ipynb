{
 "cells": [
  {
   "cell_type": "markdown",
   "metadata": {},
   "source": [
    "# Homework     Week 4    04/19/2019\n",
    "Conquer programming Advanced Python http://conquerprogramming.com/\n",
    "E.G."
   ]
  },
  {
   "cell_type": "code",
   "execution_count": 19,
   "metadata": {},
   "outputs": [
    {
     "name": "stdout",
     "output_type": "stream",
     "text": [
      "[1, -2, 4, 3]\n",
      "[1, -2, 4, 3]\n",
      "True\n",
      "\n",
      "[18, 42, 44]\n",
      "[18, 42, 44]\n",
      "True\n",
      "\n",
      "[58, 8, 34, 156, 148, 84, 96, 143, 59, 8, 172, 114, 58, 90, 170, 6, 96, 92, 137, 93, 48, 102, 67, 98, 109, 4, 5]\n",
      "[58, 8, 34, 156, 148, 84, 96, 143, 59, 8, 172, 114, 58, 90, 170, 6, 96, 92, 137, 93, 48, 102, 67, 98, 109, 4, 5]\n",
      "True\n",
      "\n"
     ]
    }
   ],
   "source": [
    "\n",
    "\n",
    "'''\n",
    "TODO: \n",
    "\t1. Create comprehension equivalents of these for loops.\n",
    "'''\n",
    "\n",
    "# Get a list of the integer versions of these floating point numbers.\n",
    "floats = [1.0, -2.583, 4.283, 3.14159265359]\n",
    "ints = []\n",
    "for num in floats:\n",
    "    ints.append(int(num))\n",
    "print(ints)\n",
    "\n",
    "\n",
    "#my answer\n",
    "ints2 = [int(x) for x in floats]\n",
    "print(ints2)\n",
    "print(bool(ints == ints2),end='\\n\\n')\n",
    "\n",
    "# Get a list of the even numbers.\n",
    "numbers = [235, 18, 42, 73, 44]\n",
    "evens = []\n",
    "for number in numbers:\n",
    "    if number % 2 == 0:\n",
    "        evens.append(number)\n",
    "print(evens)\n",
    "\n",
    "# my answer\n",
    "evens2 = [x for x in numbers if x %2 ==0]\n",
    "print(evens2)\n",
    "print(bool(evens == evens2), end='\\n\\n')\n",
    "\n",
    "\n",
    "\n",
    "\n",
    "# Get a list of the word count of each line that has words on it.\n",
    "counts = []\n",
    "for line in open('stanford.txt', 'r', errors='ignore'):\n",
    "    if len(line.split()):\n",
    "        counts.append(len(line.split()))\n",
    "print(counts)\n",
    "\n",
    "counts2 = [len(line.split()) for line in open('stanford.txt', 'r', errors = 'ignore') if len(line.split())]\n",
    "print(counts2)\n",
    "\n",
    "print(bool(counts == counts2), end='\\n\\n')\n"
   ]
  },
  {
   "cell_type": "markdown",
   "metadata": {},
   "source": [
    "# Section two, Compare"
   ]
  },
  {
   "cell_type": "code",
   "execution_count": 37,
   "metadata": {},
   "outputs": [
    {
     "name": "stdout",
     "output_type": "stream",
     "text": [
      "str and int both have: {'__setattr__', '__class__', '__mod__', '__new__', '__add__', '__getnewargs__', '__le__', '__rmod__', '__gt__', '__ge__', '__reduce_ex__', '__delattr__', '__eq__', '__sizeof__', '__getattribute__', '__lt__', '__mul__', '__format__', '__dir__', '__reduce__', '__init_subclass__', '__rmul__', '__doc__', '__repr__', '__subclasshook__', '__str__', '__init__', '__ne__', '__hash__'}\n",
      "\n",
      "{'center', 'index', 'isprintable', 'isspace', '__len__', 'lstrip', 'zfill', 'encode', 'partition', 'casefold', 'strip', 'split', 'rjust', 'expandtabs', 'format', 'title', 'isascii', 'islower', 'swapcase', '__contains__', 'rsplit', 'rpartition', 'capitalize', 'format_map', '__getitem__', 'istitle', 'splitlines', 'ljust', 'lower', 'isidentifier', 'startswith', '__iter__', 'isupper', 'isalpha', 'isdecimal', 'join', 'endswith', 'isnumeric', 'replace', 'count', 'isdigit', 'rindex', 'translate', 'upper', 'rfind', 'find', 'rstrip', 'isalnum', 'maketrans'}\n",
      "\n",
      "no no no no no no no no no no no no no no no no no no no no no no no no no no no no no no no no no no no no no no no no no no no no no no no no no "
     ]
    }
   ],
   "source": [
    "# 1. dir() returns a list. Get the dir() results for str and int and turn them into sets.\n",
    "\n",
    "i, s = map(set,(dir(int), dir(str)))\n",
    "\n",
    "\n",
    "\n",
    "\n",
    "\n",
    "'''\n",
    "2. Figure out which methods and attributes 'str' and 'int' have in common.\n",
    "    Print them, sorted, in this manner:\n",
    "\n",
    "    str and int both have:\n",
    "        __add__\n",
    "        __class__\n",
    "        etc...\n",
    "'''\n",
    "\n",
    "both = (i & s)\n",
    "print(f'str and int both have: {both}', end='\\n\\n')\n",
    "\n",
    "\n",
    "#  3. Figure out which methods 'str' has that 'int' doesn't. Print them out in the same manner.\n",
    "\n",
    "only_str = (s - i)\n",
    "print(only_str, end='\\n\\n')\n",
    "\n",
    "\n",
    "# check to make sure items in only_str dont exist in i (dir(int))\n",
    "for item in only_str: \n",
    "    if item in i:\n",
    "        print('yes', end=' ')\n",
    "    else:\n",
    "        print('no', end=' ')"
   ]
  },
  {
   "cell_type": "markdown",
   "metadata": {},
   "source": [
    "# Part Three, Tesla\n"
   ]
  },
  {
   "cell_type": "code",
   "execution_count": 10,
   "metadata": {},
   "outputs": [
    {
     "data": {
      "text/plain": [
       "100000"
      ]
     },
     "execution_count": 10,
     "metadata": {},
     "output_type": "execute_result"
    },
    {
     "data": {
      "text/plain": [
       "100000"
      ]
     },
     "execution_count": 10,
     "metadata": {},
     "output_type": "execute_result"
    },
    {
     "data": {
      "text/plain": [
       "200000"
      ]
     },
     "execution_count": 10,
     "metadata": {},
     "output_type": "execute_result"
    },
    {
     "name": "stdout",
     "output_type": "stream",
     "text": [
      "458600\n",
      "{'Model 3': 36200, 'Model S': 86200, 'Roadster': 200000, 'Model X': 88000, 'Model Y': 48200}\n",
      "<class 'collections.OrderedDict'>\n",
      "Model 3: Only 36200\n",
      "Model Y: Only 48200\n",
      "Model S: Only 86200\n",
      "Model X: Only 88000\n",
      "Roadster: Only 200000\n"
     ]
    }
   ],
   "source": [
    "\n",
    "from collections import OrderedDict\n",
    "from IPython.core.interactiveshell import InteractiveShell\n",
    "\n",
    "InteractiveShell.ast_node_interactivity = \"all\"\n",
    "\n",
    "\n",
    "\n",
    "teslas = {'Model 3': 36200, 'Model S': 86200, 'Roadster': 100000, 'Model X': 88000, 'Model Y': 48200}\n",
    "\n",
    "\n",
    "# 1. Print the price of the Roadster.\n",
    "\n",
    "teslas.get('Roadster')\n",
    "teslas['Roadster']\n",
    "\n",
    "\n",
    "\n",
    "\n",
    "# 2. Correct the Roadster price by changing the value to 200000.\n",
    "teslas['Roadster'] = 200000\n",
    "teslas['Roadster']\n",
    "\n",
    "\n",
    "\n",
    "# 3. Add together all the prices and print the result.\n",
    "\n",
    "print(sum(teslas.values()))\n",
    "\n",
    "\n",
    "# 4. Iterate through the dictionary, sorting it from low price to high, and print each entry, formatted like so:\n",
    "#    Model 3: Only $36,200!\n",
    "\n",
    "\n",
    "print(teslas)\n",
    "\n",
    "sort_ascend = OrderedDict(sorted(teslas.items(), key = lambda x: x[1]))\n",
    "print(type(sort_ascend))\n",
    "for item in sort_ascend:\n",
    "    print(f'{item}: Only {sort_ascend[item]}')\n",
    "\n",
    "\n",
    "\n"
   ]
  },
  {
   "cell_type": "code",
   "execution_count": null,
   "metadata": {},
   "outputs": [],
   "source": []
  }
 ],
 "metadata": {
  "kernelspec": {
   "display_name": "Python 3",
   "language": "python",
   "name": "python3"
  },
  "language_info": {
   "codemirror_mode": {
    "name": "ipython",
    "version": 3
   },
   "file_extension": ".py",
   "mimetype": "text/x-python",
   "name": "python",
   "nbconvert_exporter": "python",
   "pygments_lexer": "ipython3",
   "version": "3.7.1"
  }
 },
 "nbformat": 4,
 "nbformat_minor": 2
}
