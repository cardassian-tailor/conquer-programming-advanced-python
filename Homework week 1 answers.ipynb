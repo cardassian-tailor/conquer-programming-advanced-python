{
 "cells": [
  {
   "cell_type": "markdown",
   "metadata": {},
   "source": [
    "#  Homework Questions\n",
    "homework questions from conquer programming 03/2019  http://conquerprogramming.com/  \n",
    "Questions 4, 5, and 6 I added\n",
    "1. Use slicing to print just the words ``All mimsy were the borogoves``.\n",
    "\n",
    "2. Use a ``for loop`` to print all the words in the ``jabberwocky`` list that are not:\n",
    "\n",
    "    and\n",
    "    the\n",
    "    in\n",
    "\n",
    "3. Figure out which string method you can use to skip those words even if they are capitalized.\n",
    "'''\n",
    "\n",
    "jabberwocky = ['’Twas', 'brillig', 'and', 'the', 'slithy', 'toves', 'Did', 'gyre', 'and', 'gimble', 'in', 'the', 'wabe', 'All', 'mimsy', 'were', 'the', 'borogoves,', 'And', 'the', 'mome', 'raths', 'outgrabe', 'Beware', 'the', 'Jabberwock,', 'my', 'son', 'The', 'jaws', 'that', 'bite,', 'the', 'claws', 'that', 'catch', 'Beware', 'the', 'Jubjub', 'bird,', 'and', 'shun', 'The', 'frumious', 'Bandersnatch']\n",
    "\n",
    "\n"
   ]
  },
  {
   "cell_type": "code",
   "execution_count": 1,
   "metadata": {},
   "outputs": [],
   "source": [
    "jabberwocky = ['’Twas', 'brillig', 'and', 'the', 'slithy', 'toves', 'Did', 'gyre', 'and', 'gimble', 'in', 'the', 'wabe', 'All', 'mimsy', 'were', 'the', 'borogoves,', 'And', 'the', 'mome', 'raths', 'outgrabe', 'Beware', 'the', 'Jabberwock,', 'my', 'son', 'The', 'jaws', 'that', 'bite,', 'the', 'claws', 'that', 'catch', 'Beware', 'the', 'Jubjub', 'bird,', 'and', 'shun', 'The', 'frumious', 'Bandersnatch']\n"
   ]
  },
  {
   "cell_type": "code",
   "execution_count": 2,
   "metadata": {},
   "outputs": [
    {
     "name": "stdout",
     "output_type": "stream",
     "text": [
      "['’Twas', 'brillig', 'and', 'the', 'slithy', 'toves', 'Did', 'gyre', 'and', 'gimble', 'in', 'the', 'wabe', 'All', 'mimsy', 'were', 'the', 'borogoves,', 'And', 'the', 'mome', 'raths', 'outgrabe', 'Beware', 'the', 'Jabberwock,', 'my', 'son', 'The', 'jaws', 'that', 'bite,', 'the', 'claws', 'that', 'catch', 'Beware', 'the', 'Jubjub', 'bird,', 'and', 'shun', 'The', 'frumious', 'Bandersnatch']\n"
     ]
    }
   ],
   "source": [
    "print(jabberwocky)"
   ]
  },
  {
   "cell_type": "code",
   "execution_count": 17,
   "metadata": {},
   "outputs": [],
   "source": [
    "starter_pointer, end_pointer = jabberwocky.index('All'), (jabberwocky.index('borogoves,') +1)"
   ]
  },
  {
   "cell_type": "code",
   "execution_count": 23,
   "metadata": {},
   "outputs": [
    {
     "name": "stdout",
     "output_type": "stream",
     "text": [
      "['All', 'mimsy', 'were', 'the', 'borogoves,']\n"
     ]
    }
   ],
   "source": [
    "sliced_list = jabberwocky[starter_pointer:end_pointer]\n",
    "print(sliced_list)"
   ]
  },
  {
   "cell_type": "code",
   "execution_count": 36,
   "metadata": {},
   "outputs": [
    {
     "name": "stdout",
     "output_type": "stream",
     "text": [
      "All mimsy were the borogoves\n"
     ]
    }
   ],
   "source": [
    "selection = \" \".join(sliced_list)\n",
    "#removing the trailing comma\n",
    "selection = selection.replace(',', \"\")\n",
    "print(selection)"
   ]
  },
  {
   "cell_type": "markdown",
   "metadata": {},
   "source": [
    "# Answer to number one ^\n",
    "I assume the request to print \"All mimsy were the borogroves\" is specifically wanting you to remove the trailing comma, so I did.   "
   ]
  },
  {
   "cell_type": "code",
   "execution_count": 42,
   "metadata": {},
   "outputs": [
    {
     "name": "stdout",
     "output_type": "stream",
     "text": [
      "’Twas brillig slithy toves Did gyre gimble in wabe All mimsy were borogoves, mome raths outgrabe Beware Jabberwock, my son jaws that bite, claws that catch Beware Jubjub bird, shun frumious Bandersnatch "
     ]
    }
   ],
   "source": [
    "dont_print = ['and', 'the', 'end',]\n",
    "for item in jabberwocky:\n",
    "    if item.lower()in dont_print:\n",
    "        continue\n",
    "    else:\n",
    "        print(item, end = \" \")\n",
    "        "
   ]
  },
  {
   "cell_type": "markdown",
   "metadata": {},
   "source": [
    "# Answer to number 2  and number 3^\n"
   ]
  },
  {
   "cell_type": "markdown",
   "metadata": {},
   "source": [
    "# 4) print all words in jabberwocky that contain a , (comma) "
   ]
  },
  {
   "cell_type": "code",
   "execution_count": 44,
   "metadata": {},
   "outputs": [
    {
     "name": "stdout",
     "output_type": "stream",
     "text": [
      "borogoves,\n",
      "Jabberwock,\n",
      "bite,\n",
      "bird,\n"
     ]
    }
   ],
   "source": [
    "for item in jabberwocky:\n",
    "    if \",\" in item:\n",
    "        print(item)\n",
    "        "
   ]
  },
  {
   "cell_type": "markdown",
   "metadata": {},
   "source": [
    "# 5) print string\n",
    "Create a variable named quotes and assign it the string value \"This isn't a normal string, it has this /\""
   ]
  },
  {
   "cell_type": "code",
   "execution_count": 51,
   "metadata": {},
   "outputs": [
    {
     "name": "stdout",
     "output_type": "stream",
     "text": [
      "This isn't a normal string, it has this \\\n",
      "\"This isn't a normal string, it has this /\"\n",
      "This isn't a normal string, it has this /\n"
     ]
    }
   ],
   "source": [
    "quotes = \"This isn't a normal string, it has this \\\\\"\n",
    "print(quotes)\n",
    "quotes = \"This isn't a normal string, it has this /\"\n",
    "print(repr(quotes))\n",
    "print(str(quotes))"
   ]
  },
  {
   "cell_type": "markdown",
   "metadata": {},
   "source": [
    "# 6 Print string backwards\n",
    "print the forward string backwards"
   ]
  },
  {
   "cell_type": "code",
   "execution_count": 52,
   "metadata": {},
   "outputs": [
    {
     "name": "stdout",
     "output_type": "stream",
     "text": [
      "['I', 'am', 'going', 'shopping']\n"
     ]
    }
   ],
   "source": [
    "forward = \"I am going shopping\"\n",
    "forward_list = forward.split()\n",
    "print(forward_list)"
   ]
  },
  {
   "cell_type": "code",
   "execution_count": 58,
   "metadata": {},
   "outputs": [
    {
     "name": "stdout",
     "output_type": "stream",
     "text": [
      "['shopping', 'going', 'am', 'I']\n"
     ]
    }
   ],
   "source": [
    "print(forward_list[::-1])  #could use list.reverse() here"
   ]
  },
  {
   "cell_type": "code",
   "execution_count": 61,
   "metadata": {},
   "outputs": [
    {
     "name": "stdout",
     "output_type": "stream",
     "text": [
      "shopping going am I "
     ]
    }
   ],
   "source": [
    "for item in forward_list[::-1]:\n",
    "    print(item, end = \" \")"
   ]
  },
  {
   "cell_type": "markdown",
   "metadata": {},
   "source": [
    "homework questions from conquer programming 03/2019  http://conquerprogramming.com/  \n",
    "Questions 4, 5, and 6 I added"
   ]
  }
 ],
 "metadata": {
  "kernelspec": {
   "display_name": "Python 3",
   "language": "python",
   "name": "python3"
  },
  "language_info": {
   "codemirror_mode": {
    "name": "ipython",
    "version": 3
   },
   "file_extension": ".py",
   "mimetype": "text/x-python",
   "name": "python",
   "nbconvert_exporter": "python",
   "pygments_lexer": "ipython3",
   "version": "3.7.1"
  }
 },
 "nbformat": 4,
 "nbformat_minor": 2
}
